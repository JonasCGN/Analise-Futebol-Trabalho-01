{
 "cells": [
  {
   "cell_type": "code",
   "execution_count": null,
   "metadata": {},
   "outputs": [],
   "source": [
    "import pandas as pd\n",
    "import seaborn as sns\n",
    "import matplotlib.pyplot as plt"
   ]
  },
  {
   "cell_type": "code",
   "execution_count": null,
   "metadata": {},
   "outputs": [],
   "source": [
    "times = pd.read_csv('./df_times.csv')\n",
    "jogadores = pd.read_csv('./dfPlayers.csv')"
   ]
  },
  {
   "cell_type": "markdown",
   "metadata": {},
   "source": [
    "# Descrição Metodológica"
   ]
  },
  {
   "cell_type": "markdown",
   "metadata": {},
   "source": [
    "Na nossa metodologia, utilizamos o banco de dados fornecido para realizar uma análise aprofundada dos dados. Inicialmente, criamos uma tabela de informações para estabelecer métricas focadas em correlações entre diversos fatos interessantes para a equipe. Por exemplo, examinamos a relação entre o número de chances criadas pelos 20 times da Série A e a porcentagem de êxito nessas finalizações. Nosso objetivo é identificar quais times tiveram maior aproveitamento em relação às chances criadas."
   ]
  },
  {
   "cell_type": "markdown",
   "metadata": {},
   "source": [
    "### Times"
   ]
  },
  {
   "cell_type": "code",
   "execution_count": null,
   "metadata": {},
   "outputs": [],
   "source": [
    "times.info()"
   ]
  },
  {
   "cell_type": "code",
   "execution_count": null,
   "metadata": {},
   "outputs": [],
   "source": [
    "times[times['statistics'] == 'bigChances']"
   ]
  },
  {
   "cell_type": "code",
   "execution_count": null,
   "metadata": {},
   "outputs": [],
   "source": [
    "times[times['statistics'] == 'bigChancesMissed']"
   ]
  },
  {
   "cell_type": "markdown",
   "metadata": {},
   "source": [
    "# Hipotese 1:"
   ]
  },
  {
   "cell_type": "markdown",
   "metadata": {},
   "source": [
    "### A alguma relação entre grandes chances com grandes chances perdidas ?"
   ]
  },
  {
   "cell_type": "code",
   "execution_count": null,
   "metadata": {},
   "outputs": [],
   "source": [
    "pivoted_times = times.pivot_table(index='time', columns='statistics', values='valor').reset_index()\n",
    "\n",
    "correlation = pivoted_times['bigChances'].corr(pivoted_times['bigChancesMissed'])\n",
    "\n",
    "# Criar o gráfico de dispersão com linha de regressão\n",
    "plt.figure(figsize=(10, 6))\n",
    "sns.regplot(x='bigChances', y='bigChancesMissed', data=pivoted_times)\n",
    "\n",
    "# Adicionar título e rótulos aos eixos\n",
    "plt.title('Correlação entre Grandes Chances e Big Chances Missed')\n",
    "plt.xlabel('Grandes Chances')\n",
    "plt.ylabel('Grandes Chances Perdidas')\n",
    "\n",
    "plt.text(min(pivoted_times['bigChances']), max(pivoted_times['bigChancesMissed']) - 2, f'Correlação: {correlation:.2f}', fontsize=12, color='red')\n",
    "\n",
    "\n",
    "plt.show()"
   ]
  },
  {
   "cell_type": "markdown",
   "metadata": {},
   "source": [
    "\n",
    "Na analise feita através do grafico mostrado abaixo, podemos ter uma grande compreensao dos dados dos 20 times da serie A do brasileirão 2023.\n",
    "onde foi realizada uma analise comparativa dentre as grandes chances criadas dentre cada um deles e suas porcentagens de aproveitamento nessas grandes chances criadas e suas correlações."
   ]
  },
  {
   "cell_type": "markdown",
   "metadata": {},
   "source": [
    "# Hipotese 2"
   ]
  },
  {
   "cell_type": "markdown",
   "metadata": {},
   "source": [
    " ### Existe uma correlação entre gols sofridos e a quantidade de cartão vermelho recebidos."
   ]
  },
  {
   "cell_type": "code",
   "execution_count": null,
   "metadata": {},
   "outputs": [],
   "source": [
    "pivoted_times = times.pivot_table(index='time', columns='statistics', values='valor').reset_index()\n",
    "\n",
    "correlation = pivoted_times['goalsConceded'].corr(pivoted_times['redCards'])\n",
    "\n",
    "plt.figure(figsize=(10, 6))\n",
    "sns.regplot(x='goalsConceded', y='redCards', data=pivoted_times)\n",
    "\n",
    "# Adicionar título e rótulos aos eixos\n",
    "plt.title('Correlação entre Gols Concedidos e Cartãos Vermelhos')\n",
    "plt.xlabel('Gols Concedidos')\n",
    "plt.ylabel('Cartões Vermelhos')\n",
    "\n",
    "plt.text(min(pivoted_times['goalsConceded']), max(pivoted_times['redCards'] - 1) , f'Correlação: {correlation:.2f}', fontsize=12, color='red')\n",
    "\n",
    "\n",
    "plt.show()"
   ]
  },
  {
   "cell_type": "markdown",
   "metadata": {},
   "source": [
    "Após a análise dos dados, foi possível identificar uma correlação entre a quantidade de gols sofridos e a quantidade de cartões vermelhos recebidos. Através do gráfico de correlação é possivel observar que a correlação entre as duas variáveis é de 0.54, o que indica uma correlação positiva entre as duas variáveis. Ou seja, quanto maior a quantidade de gols sofridos, maior a quantidade de cartões vermelhos recebidos. Entretanto, é importante ressaltar que a correlação não implica causalidade, ou seja, não podemos afirmar que a quantidade de gols sofridos é a causa da quantidade de cartões vermelhos recebidos. Outros fatores podem influenciar nessa relação, como a qualidade do time, a disciplina dos jogadores, entre outros."
   ]
  },
  {
   "cell_type": "markdown",
   "metadata": {},
   "source": [
    "### Jogadores (Não utilizado para hipoteses)"
   ]
  },
  {
   "cell_type": "code",
   "execution_count": null,
   "metadata": {},
   "outputs": [],
   "source": [
    "jogadores.info()"
   ]
  },
  {
   "cell_type": "code",
   "execution_count": null,
   "metadata": {},
   "outputs": [],
   "source": [
    "jogadores.head()"
   ]
  },
  {
   "cell_type": "code",
   "execution_count": null,
   "metadata": {},
   "outputs": [],
   "source": [
    "time_qtd: dict[str, int] = {}\n",
    "\n",
    "for jogadorEstatitiscaGeral in jogadores['topPlayers']:\n",
    "    jogadorEstatitiscaGeral = eval(jogadorEstatitiscaGeral)\n",
    "    for jogador in jogadorEstatitiscaGeral:\n",
    "        team = jogador['team']['slug']\n",
    "        if team in time_qtd:\n",
    "            time_qtd[team] += 1\n",
    "        else:\n",
    "            time_qtd[team] = 1\n",
    "\n",
    "# Ordenar o dicionário\n",
    "time_qtd = dict(\n",
    "    sorted(time_qtd.items(), key=lambda item: item[1], reverse=True))\n",
    "\n",
    "# Criar um gráfico de barras\n",
    "plt.figure(figsize=(10, 6))\n",
    "sns.barplot(y=list(time_qtd.keys()), x=list(time_qtd.values()))\n",
    "\n",
    "# Adicionar título e rótulos aos eixos\n",
    "plt.title('Quantidade de Jogadores que estão no top 50 nas categorias')\n",
    "plt.xlabel('Quantidade de Jogadores')\n",
    "plt.ylabel('Time')\n",
    "\n",
    "plt.show()"
   ]
  },
  {
   "cell_type": "code",
   "execution_count": null,
   "metadata": {},
   "outputs": [],
   "source": [
    "time_qtd_accuratePasses = {}\n",
    "\n",
    "for jogadorEstatitiscaGeral in jogadores['topPlayers']:\n",
    "    jogadorEstatitiscaGeral = eval(jogadorEstatitiscaGeral)\n",
    "    for jogador in jogadorEstatitiscaGeral:\n",
    "        team = jogador['team']['slug']\n",
    "        if 'accuratePasses' in jogador['statistics']:\n",
    "            time_qtd_accuratePasses[team] = time_qtd_accuratePasses.get(team, 0) + 1\n",
    "\n",
    "# Ordenar o dicionário\n",
    "time_qtd_accuratePasses = dict(sorted(time_qtd_accuratePasses.items(), key=lambda item: item[1], reverse=True)[:5])\n",
    "\n",
    "# Criar um gráfico de barras\n",
    "plt.figure(figsize=(10, 6))\n",
    "sns.barplot(y=list(time_qtd_accuratePasses.keys()), x=list(time_qtd_accuratePasses.values()))\n",
    "\n",
    "plt.title('Quantidade de Jogadores que estão no top 50 na categoria accuratePasses')\n",
    "plt.xlabel('Quantidade de Jogadores')\n",
    "plt.ylabel(\"Times\")\n",
    "\n",
    "plt.show()\n"
   ]
  },
  {
   "cell_type": "code",
   "execution_count": null,
   "metadata": {},
   "outputs": [],
   "source": [
    "time_accuratePasses = times[times['statistics'] == 'accuratePasses'][:5]\n",
    "time_accuratePasses = time_accuratePasses[['time', 'valor']].sort_values(by='valor', ascending=False)\n",
    "\n",
    "sns.barplot(y='time', x='valor', data=time_accuratePasses)\n",
    "\n",
    "plt.title('Times com mais passes precisos')\n",
    "plt.xlabel('Quantidade de passes precisos')\n",
    "plt.ylabel(\"Times\")\n",
    "\n",
    "plt.show()"
   ]
  }
 ],
 "metadata": {
  "kernelspec": {
   "display_name": "Python 3",
   "language": "python",
   "name": "python3"
  },
  "language_info": {
   "codemirror_mode": {
    "name": "ipython",
    "version": 3
   },
   "file_extension": ".py",
   "mimetype": "text/x-python",
   "name": "python",
   "nbconvert_exporter": "python",
   "pygments_lexer": "ipython3",
   "version": "3.10.12"
  }
 },
 "nbformat": 4,
 "nbformat_minor": 2
}
