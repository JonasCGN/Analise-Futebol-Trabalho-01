{
 "cells": [
  {
   "cell_type": "code",
   "execution_count": null,
   "metadata": {},
   "outputs": [],
   "source": [
    "import pandas as pd\n",
    "import seaborn as sns\n",
    "import matplotlib.pyplot as plt"
   ]
  },
  {
   "cell_type": "code",
   "execution_count": null,
   "metadata": {},
   "outputs": [],
   "source": [
    "times = pd.read_csv('./df_times.csv')\n",
    "jogadores = pd.read_csv('./dfPlayers.csv')"
   ]
  },
  {
   "cell_type": "markdown",
   "metadata": {},
   "source": [
<<<<<<< HEAD
    "# Descrição Metodológica"
   ]
  },
  {
   "cell_type": "markdown",
   "metadata": {},
   "source": [
    "Na nossa metodologia, utilizamos o banco de dados fornecido para realizar uma análise aprofundada dos dados. Inicialmente, criamos uma tabela de informações para estabelecer métricas focadas em correlações entre diversos fatos interessantes para a equipe. Por exemplo, examinamos a relação entre o número de chances criadas pelos 20 times da Série A e a porcentagem de êxito nessas finalizações. Nosso objetivo é identificar quais times tiveram maior aproveitamento em relação às chances criadas."
   ]
  },
  {
   "cell_type": "markdown",
   "metadata": {},
   "source": [
=======
>>>>>>> ba1747bb025baa696fea771c0fc59670386d6710
    "### Times"
   ]
  },
  {
   "cell_type": "code",
   "execution_count": null,
   "metadata": {},
   "outputs": [],
   "source": [
    "times.info()"
   ]
  },
  {
   "cell_type": "code",
   "execution_count": null,
   "metadata": {},
   "outputs": [],
   "source": [
    "times[times['statistics'] == 'bigChances']"
   ]
  },
  {
   "cell_type": "code",
   "execution_count": null,
   "metadata": {},
   "outputs": [],
   "source": [
    "times[times['statistics'] == 'bigChancesMissed']"
   ]
  },
  {
   "cell_type": "markdown",
   "metadata": {},
   "source": [
    "Hipotese 1"
   ]
  },
  {
   "cell_type": "code",
   "execution_count": null,
   "metadata": {},
   "outputs": [],
   "source": [
    "pivoted_times = times.pivot_table(\n",
    "    index='time', columns='statistics', values='valor').reset_index()\n",
    "\n",
    "correlation = pivoted_times['bigChances'].corr(\n",
    "    pivoted_times['bigChancesMissed'])\n",
    "\n",
    "# Criar o gráfico de dispersão com linha de regressão\n",
    "plt.figure(figsize=(10, 6))\n",
    "sns.regplot(x='bigChances', y='bigChancesMissed', data=pivoted_times)\n",
    "\n",
    "# Adicionar título e rótulos aos eixos\n",
    "plt.title('Correlação entre Grandes Chances e Big Chances Missed')\n",
    "plt.xlabel('Grandes Chances')\n",
    "plt.ylabel('Grandes Chances Perdidas')\n",
    "\n",
    "plt.text(max(pivoted_times['bigChances']) - 20, max(pivoted_times['bigChancesMissed']\n",
    "                                                    ) - 2, f'Correlação: {correlation:.2f}', fontsize=12, color='red')\n",
    "\n",
    "\n",
    "plt.show()"
   ]
  },
  {
   "cell_type": "markdown",
   "metadata": {},
   "source": [
    "Na analise feita através do grafico mostrado acima, podemos ter uma grande compreensao dos dados dos 20 times da serie A do brasileirão 2023.\n",
    "onde foi realizada uma analise comparativa dentre as grandes chances criadas dentre cada um deles e suas porcentagens de aproveitamento nessas grandes chances criadas e suas correlações."
   ]
  },
  {
   "cell_type": "markdown",
   "metadata": {},
   "source": [
    "#### Hipotese 2: Existe uma relação entre Gols Sofridos e redCards por um time"
   ]
  },
  {
   "cell_type": "code",
   "execution_count": null,
   "metadata": {},
   "outputs": [],
   "source": [
    "pivoted_times = times.pivot_table(\n",
    "    index='time', columns='statistics', values='valor').reset_index()\n",
    "\n",
    "correlation = pivoted_times['goalsConceded'].corr(pivoted_times['redCards'])\n",
    "\n",
    "# Criar o gráfico de dispersão com linha de regressão\n",
    "plt.figure(figsize=(10, 6))\n",
    "sns.regplot(x='goalsConceded', y='redCards', data=pivoted_times)\n",
    "\n",
    "# Adicionar título e rótulos aos eixos\n",
    "plt.title('Correlação entre Gols Sofridos e Cartãos Vermelhos')\n",
    "plt.xlabel('Gols Sofridos')\n",
    "plt.ylabel('Cartões Vermelhos')\n",
    "\n",
    "plt.text(min(pivoted_times['goalsConceded']), max(pivoted_times['redCards']), f'Correlação: {correlation:.2f}', fontsize=12, color='red')\n",
    "\n",
    "\n",
    "plt.show()"
   ]
  },
  {
   "cell_type": "markdown",
   "metadata": {},
   "source": [
    "Segundo os dados obtidos, é seguro afirmar que existe uma relação fraca entre os gols sofridos e os redCards recebidos por um time. A correlação entre essas duas variáveis é de 0.54, o que indica uma relação positiva entre elas. Isso significa que, em geral, quanto mais gols um time sofre, mais redCards ele recebe. Porém, essa relação não significa que uma variável cause a outra, apenas que elas estão relacionadas de alguma forma."
   ]
  },
  {
   "cell_type": "markdown",
   "metadata": {},
   "source": [
    "#### Jogadores (Exemplos, Não foi utilizada no projeto)"
   ]
  },
  {
   "cell_type": "code",
   "execution_count": null,
   "metadata": {},
   "outputs": [],
   "source": [
    "jogadores.info()"
   ]
  },
  {
   "cell_type": "code",
   "execution_count": null,
   "metadata": {},
   "outputs": [],
   "source": [
    "jogadores.head()"
   ]
  },
  {
   "cell_type": "code",
   "execution_count": null,
   "metadata": {},
   "outputs": [],
   "source": [
    "time_qtd: dict[str, int] = {}\n",
    "\n",
    "for jogadorEstatitiscaGeral in jogadores['topPlayers']:\n",
    "    jogadorEstatitiscaGeral = eval(jogadorEstatitiscaGeral)\n",
    "    for jogador in jogadorEstatitiscaGeral:\n",
    "        team = jogador['team']['slug']\n",
    "        if team in time_qtd:\n",
    "            time_qtd[team] += 1\n",
    "        else:\n",
    "            time_qtd[team] = 1\n",
    "\n",
    "# Ordenar o dicionário\n",
    "time_qtd = dict(\n",
    "    sorted(time_qtd.items(), key=lambda item: item[1], reverse=True))\n",
    "\n",
    "# Criar um gráfico de barras\n",
    "plt.figure(figsize=(10, 6))\n",
    "sns.barplot(y=list(time_qtd.keys()), x=list(time_qtd.values()))\n",
    "\n",
    "# Adicionar título e rótulos aos eixos\n",
    "plt.title('Quantidade de Jogadores que estão no top 50 nas categorias')\n",
    "plt.xlabel('Quantidade de Jogadores')\n",
    "plt.ylabel('Time')\n",
    "\n",
    "plt.show()"
   ]
  },
  {
   "cell_type": "code",
   "execution_count": null,
   "metadata": {},
   "outputs": [],
   "source": [
    "time_qtd_accuratePasses = {}\n",
    "\n",
    "for jogadorEstatitiscaGeral in jogadores['topPlayers']:\n",
    "    jogadorEstatitiscaGeral = eval(jogadorEstatitiscaGeral)\n",
    "    for jogador in jogadorEstatitiscaGeral:\n",
    "        team = jogador['team']['slug']\n",
    "        if 'accuratePasses' in jogador['statistics']:\n",
    "            time_qtd_accuratePasses[team] = time_qtd_accuratePasses.get(\n",
    "                team, 0) + 1\n",
    "\n",
    "# Pegue os 5 primeiros\n",
    "\n",
    "time_qtd_accuratePasses = dict(sorted(\n",
    "    time_qtd_accuratePasses.items(), key=lambda item: item[1], reverse=True)[:5])\n",
    "\n",
    "# Criar dois graficos de barras\n",
    "fig, axs = plt.subplots(1, 2, figsize=(20, 10))\n",
    "\n",
    "sns.barplot(y=list(time_qtd_accuratePasses.keys()), x=list(\n",
    "    time_qtd_accuratePasses.values()), ax=axs[0])\n",
    "\n",
    "axs[0].set_title(\n",
    "    'Quantidade de Jogadores que estão no top 50 na categoria accuratePasses')\n",
    "axs[0].set_xlabel('Quantidade de Jogadores')\n",
    "\n",
    "time_accuratePasses = times[times['statistics'] == 'accuratePasses']\n",
    "time_accuratePasses = time_accuratePasses[['time', 'valor']].sort_values(\n",
    "    by='valor', ascending=False)[:5]\n",
    "\n",
    "sns.barplot(y='time', x='valor', data=time_accuratePasses, ax=axs[1])\n",
    "\n",
    "axs[1].set_title('Times com mais accuratePasses')\n",
    "axs[1].set_xlabel('Quantidade de accuratePasses')\n",
    "\n",
    "plt.show()"
   ]
  }
 ],
 "metadata": {
  "kernelspec": {
   "display_name": "Python 3",
   "language": "python",
   "name": "python3"
  },
  "language_info": {
   "codemirror_mode": {
    "name": "ipython",
    "version": 3
   },
   "file_extension": ".py",
   "mimetype": "text/x-python",
   "name": "python",
   "nbconvert_exporter": "python",
   "pygments_lexer": "ipython3",
   "version": "3.10.12"
  }
 },
 "nbformat": 4,
 "nbformat_minor": 2
}
